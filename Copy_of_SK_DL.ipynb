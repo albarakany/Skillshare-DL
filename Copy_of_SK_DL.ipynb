{
  "nbformat": 4,
  "nbformat_minor": 0,
  "metadata": {
    "colab": {
      "provenance": [],
      "include_colab_link": true
    },
    "kernelspec": {
      "name": "python3",
      "display_name": "Python 3"
    },
    "language_info": {
      "name": "python"
    },
    "widgets": {
      "application/vnd.jupyter.widget-state+json": {
        "489ae1d20c3d4504a21d8bf4e27502ec": {
          "model_module": "@jupyter-widgets/controls",
          "model_name": "ButtonModel",
          "model_module_version": "1.5.0",
          "state": {
            "_dom_classes": [],
            "_model_module": "@jupyter-widgets/controls",
            "_model_module_version": "1.5.0",
            "_model_name": "ButtonModel",
            "_view_count": null,
            "_view_module": "@jupyter-widgets/controls",
            "_view_module_version": "1.5.0",
            "_view_name": "ButtonView",
            "button_style": "warning",
            "description": "Installing",
            "disabled": true,
            "icon": "check",
            "layout": "IPY_MODEL_dbeac4b5893c459fa2bbbbb9f077cf45",
            "style": "IPY_MODEL_033557090caa4d2296642dab85296701",
            "tooltip": "Installing"
          }
        },
        "dbeac4b5893c459fa2bbbbb9f077cf45": {
          "model_module": "@jupyter-widgets/base",
          "model_name": "LayoutModel",
          "model_module_version": "1.2.0",
          "state": {
            "_model_module": "@jupyter-widgets/base",
            "_model_module_version": "1.2.0",
            "_model_name": "LayoutModel",
            "_view_count": null,
            "_view_module": "@jupyter-widgets/base",
            "_view_module_version": "1.2.0",
            "_view_name": "LayoutView",
            "align_content": null,
            "align_items": null,
            "align_self": null,
            "border": null,
            "bottom": null,
            "display": null,
            "flex": null,
            "flex_flow": null,
            "grid_area": null,
            "grid_auto_columns": null,
            "grid_auto_flow": null,
            "grid_auto_rows": null,
            "grid_column": null,
            "grid_gap": null,
            "grid_row": null,
            "grid_template_areas": null,
            "grid_template_columns": null,
            "grid_template_rows": null,
            "height": null,
            "justify_content": null,
            "justify_items": null,
            "left": null,
            "margin": null,
            "max_height": null,
            "max_width": null,
            "min_height": null,
            "min_width": null,
            "object_fit": null,
            "object_position": null,
            "order": null,
            "overflow": null,
            "overflow_x": null,
            "overflow_y": null,
            "padding": null,
            "right": null,
            "top": null,
            "visibility": null,
            "width": null
          }
        },
        "033557090caa4d2296642dab85296701": {
          "model_module": "@jupyter-widgets/controls",
          "model_name": "ButtonStyleModel",
          "model_module_version": "1.5.0",
          "state": {
            "_model_module": "@jupyter-widgets/controls",
            "_model_module_version": "1.5.0",
            "_model_name": "ButtonStyleModel",
            "_view_count": null,
            "_view_module": "@jupyter-widgets/base",
            "_view_module_version": "1.2.0",
            "_view_name": "StyleView",
            "button_color": null,
            "font_weight": ""
          }
        }
      }
    }
  },
  "cells": [
    {
      "cell_type": "markdown",
      "metadata": {
        "id": "view-in-github",
        "colab_type": "text"
      },
      "source": [
        "<a href=\"https://colab.research.google.com/github/albarakany/Skillshare-DL/blob/master/Copy_of_SK_DL.ipynb\" target=\"_parent\"><img src=\"https://colab.research.google.com/assets/colab-badge.svg\" alt=\"Open In Colab\"/></a>"
      ]
    },
    {
      "cell_type": "code",
      "source": [
        "#@markdown <h3>⬅ Run This Cell to  Mount Gdrive</h3>\n",
        "from google.colab import drive\n",
        "drive.mount('/content/drive')"
      ],
      "metadata": {
        "id": "YjIuM_T5WqTJ",
        "cellView": "form",
        "colab": {
          "base_uri": "https://localhost:8080/"
        },
        "outputId": "7d888daf-f34e-49e2-e7a3-ddc9a4c34044"
      },
      "execution_count": null,
      "outputs": [
        {
          "output_type": "stream",
          "name": "stdout",
          "text": [
            "Mounted at /content/drive\n"
          ]
        }
      ]
    },
    {
      "cell_type": "code",
      "source": [
        "#@markdown <h3>⬅️ Run This Cell to Install Skillshare-DL Requirements</h3>\n",
        "import random, string, urllib.request, json, getpass, os, IPython, uuid\n",
        "import ipywidgets as widgets\n",
        "\n",
        "from IPython.display import HTML, clear_output\n",
        "\n",
        "loadingBtn = widgets.Button(description = \"Installing\",\n",
        "                          disabled = True,\n",
        "                          button_style = 'warning', # 'success', 'info', 'warning', 'danger' or '' \n",
        "                          tooltip = \"Installing\",\n",
        "                          icon = 'check')\n",
        "display(loadingBtn)\n",
        "\n",
        "if not os.path.exists(\"/opt/python3.7\"):\n",
        "  get_ipython().system_raw(\"rm -rf /content/sample_data/ && sudo apt update && sudo apt install software-properties-common\")\n",
        "  get_ipython().system_raw(\"sudo add-apt-repository ppa:deadsnakes/ppa\")\n",
        "  get_ipython().system_raw(\"sudo apt install python3.7\")\n",
        "  get_ipython().system_raw(\"sudo apt install python3-pip\")\n",
        "  get_ipython().system_raw(\"python3.7 -m pip install --upgrade pip setuptools wheel\")\n",
        "  get_ipython().system_raw(\"git clone https://github.com/simlimone/Skillshare-DL.git /root/.Skillshare-DL\")\n",
        "  get_ipython().system_raw(\"rm -r /root/.Skillshare-DL/Skillshare.ipynb\")\n",
        "  clear_output()\n",
        "\n",
        "try:\n",
        "  get_ipython().system_raw(\"python3.7 -m pip -q install -r /root/.Skillshare-DL/requirements.txt\")\n",
        "  display(HTML(\"<center><h2 style=\\\"font-family:Trebuchet MS;color:#4f8bd6;\\\">Successfully Configured!</h2><br></center>\"))\n",
        "  \n",
        "except:\n",
        "  display(HTML(\"<center><h2 style=\\\"font-family:Trebuchet MS;color:#ff0000;\\\">Error Occured, Rerun the Cell!!</h2><br></center>\"))"
      ],
      "metadata": {
        "id": "QJRbz50_WoMb",
        "cellView": "form",
        "colab": {
          "base_uri": "https://localhost:8080/",
          "height": 82,
          "referenced_widgets": [
            "489ae1d20c3d4504a21d8bf4e27502ec",
            "dbeac4b5893c459fa2bbbbb9f077cf45",
            "033557090caa4d2296642dab85296701"
          ]
        },
        "outputId": "dc8e94c1-ea0a-497c-9cf1-5a69de4d66f3"
      },
      "execution_count": null,
      "outputs": [
        {
          "output_type": "display_data",
          "data": {
            "text/plain": [
              "<IPython.core.display.HTML object>"
            ],
            "text/html": [
              "<center><h2 style=\"font-family:Trebuchet MS;color:#4f8bd6;\">Successfully Configured!</h2><br></center>"
            ]
          },
          "metadata": {}
        }
      ]
    },
    {
      "cell_type": "code",
      "source": [
        "#@markdown <h3>⬅️ Run this Cell to Download Skillshare Course</h3>\n",
        "PHPSESSID = \"427567ef8b046d9e458b28d57ab7142c\" #@param {type:\"string\"}\n",
        "Course_Link = \"https://www.skillshare.com/classes/Beginners-Guide-to-Adobe-Photoshop-The-Essentials/1500751683?via=browse-rating-adobe-photoshop-layout-grid\" #@param {type:\"string\"}\n",
        "!python3.7 /root/.Skillshare-DL/dl.py \"$PHPSESSID\" \"$Course_Link\""
      ],
      "metadata": {
        "id": "EGUYjwDkbbV-",
        "colab": {
          "base_uri": "https://localhost:8080/"
        },
        "outputId": "e6436f40-0fcb-443d-e44d-150e7f8c295a"
      },
      "execution_count": 10,
      "outputs": [
        {
          "output_type": "stream",
          "name": "stdout",
          "text": [
            "   \n",
            "                 ____  _    _ _ _     _                          ____  _     \n",
            "                / ___|| | _(_) | |___| |__   __ _ _ __ ___      |  _ \\| |    \n",
            "                \\___ \\| |/ / | | / __| '_ \\ / _` | '__/ _ \\_____| | | | |    \n",
            "                 ___) |   <| | | \\__ \\ | | | (_| | | |  __/_____| |_| | |___ \n",
            "                |____/|_|\\_\\_|_|_|___/_| |_|\\__,_|_|  \\___|     |____/|_____|  \n",
            "                             _ __ ___  _ _  _ _ _  ___  _ _ \n",
            "                            | / /| __>| \\ || | | || . || | |\n",
            "                            |  \\ | _> |   || | | ||   |\\   /\n",
            "                            |_\\_\\|___>|_\\_||__/_/ |_|_| |_| \n",
            "                    \n",
            "                    \n",
            "                        \n",
            "                     ####### #     # ####### #     #    #     #####  #    # \n",
            "                     #     # ##    # #       #     #   # #   #     # #   #  \n",
            "                     #     # # #   # #       #     #  #   #  #       #  #   \n",
            "                     #     # #  #  # #####   ####### #     # #       ###    \n",
            "                     #     # #   # # #       #     # ####### #       #  #   \n",
            "                     #     # #    ## #       #     # #     # #     # #   #  \n",
            "                     ####### #     # ####### #     # #     #  #####  #    # \n",
            "                                                                                                         \n",
            "                \n",
            "Downloading /content/Skillshare/katesilver/beginners-guide-to-adobe-photoshop-the-essentials/01 - introduction.mp4...\n",
            "Video already downloaded, skipping...\n",
            "\n",
            "Traceback (most recent call last):\n",
            "  File \"/root/.Skillshare-DL/dl.py\", line 16, in <module>\n",
            "    main()\n",
            "  File \"/root/.Skillshare-DL/dl.py\", line 11, in main\n",
            "    dl.download_course_by_url(course_url)\n",
            "  File \"/root/.Skillshare-DL/skillshare.py\", line 32, in download_course_by_url\n",
            "    self.download_course_by_class_id(m.group(1))\n",
            "  File \"/root/.Skillshare-DL/skillshare.py\", line 72, in download_course_by_class_id\n",
            "    raise Exception('Failed to read video ID from data')\n",
            "Exception: Failed to read video ID from data\n"
          ]
        }
      ]
    },
    {
      "cell_type": "code",
      "source": [
        "#@markdown <h3>⬅️ Run This Cell to  Move Downloaded Courses to Gdrive\n",
        "!mv /content/Skillshare \"/content/drive/My Drive/Skillshare-DL\""
      ],
      "metadata": {
        "id": "Vmdc30BHbrKu",
        "cellView": "form"
      },
      "execution_count": null,
      "outputs": []
    }
  ]
}